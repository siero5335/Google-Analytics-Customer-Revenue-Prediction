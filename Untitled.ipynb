{
 "cells": [
  {
   "cell_type": "code",
   "execution_count": 2,
   "metadata": {},
   "outputs": [],
   "source": [
    "import pandas as pd \n",
    "import numpy as np \n",
    "import json \n",
    "from ast import literal_eval"
   ]
  },
  {
   "cell_type": "code",
   "execution_count": 3,
   "metadata": {},
   "outputs": [],
   "source": [
    "def flatten(in_csv, out_csv, nrows=None):\n",
    "    df = pd.read_csv(in_csv, dtype=np.object, nrows=nrows)\n",
    "    # json columns\n",
    "    json_cols = ['device', 'geoNetwork', 'totals', 'trafficSource']\n",
    "\n",
    "    def parse_json_col(raw_str):\n",
    "        return pd.Series(json.loads(raw_str))\n",
    "    \n",
    "    for col in json_cols:\n",
    "        parsed_df = df[col].apply(parse_json_col)\n",
    "        parsed_df.columns = [f'{col}_{x}' for x in parsed_df.columns]\n",
    "        df = pd.concat([df, parsed_df], axis=1)\n",
    "        df.drop(col, axis=1, inplace=True)\n",
    "    \n",
    "    # trafficSource_adwordsClickInfo\n",
    "    trafficSource_adwordsClickInfo_df = df.trafficSource_adwordsClickInfo.apply(pd.Series)\n",
    "    trafficSource_adwordsClickInfo_df.columns = [f'trafficSource_adwordsClickInfo_{x}' for x in trafficSource_adwordsClickInfo_df.columns]\n",
    "    df = pd.concat([df, trafficSource_adwordsClickInfo_df], axis=1)\n",
    "    df.drop('trafficSource_adwordsClickInfo', axis=1, inplace=True)\n",
    "\n",
    "    # customDimensions\n",
    "    def parse_customDimensions(raw_str):\n",
    "        lst = literal_eval(raw_str)\n",
    "        if isinstance(lst, list) and lst:\n",
    "            return pd.Series(lst[0])\n",
    "        else:\n",
    "            return pd.Series({})\n",
    "    \n",
    "    customDimensions_df = df.customDimensions.apply(parse_customDimensions)\n",
    "    customDimensions_df.columns = [f'customDimensions_{x}' for x in customDimensions_df.columns]\n",
    "    df = pd.concat([df, customDimensions_df], axis=1)\n",
    "    df.drop('customDimensions', axis=1, inplace=True)\n",
    "\n",
    "    # hits\n",
    "    def parse_hits(raw_str):\n",
    "        lst = literal_eval(raw_str)\n",
    "        if isinstance(lst, list) and lst:\n",
    "            return pd.Series(lst[0])\n",
    "        else:\n",
    "            return pd.Series({})\n",
    "    \n",
    "    hits_df = df.hits.apply(parse_hits)\n",
    "    hits_df.columns = [f'hits_{x}' for x in hits_df.columns]\n",
    "    df = pd.concat([df, hits_df], axis=1)\n",
    "    df.drop('hits', axis=1, inplace=True)\n",
    "\n",
    "    # 'hits_page', 'hits_transaction', 'hits_item', 'hits_appInfo',\n",
    "    # 'hits_exceptionInfo', 'hits_eCommerceAction', 'hits_social', 'hits_contentGroup', 'hits_promotionActionInfo'\n",
    "    dict_cols = ['hits_page', 'hits_transaction', 'hits_item', 'hits_appInfo', \n",
    "        'hits_exceptionInfo', 'hits_eCommerceAction', 'hits_social', 'hits_contentGroup', 'hits_promotionActionInfo']\n",
    "    for col in dict_cols:\n",
    "        parsed_df = hits_df[col].apply(pd.Series)\n",
    "        parsed_df.columns = [f'{col}_{x}' for x in parsed_df.columns]\n",
    "        df = pd.concat([df, parsed_df], axis=1)\n",
    "        df.drop(col, axis=1, inplace=True)\n",
    "    \n",
    "    # 'hits_experiment', 'hits_customVariables', 'hits_customMetrics', 'hits_publisher_infos', 'hits_customDimensions' are empty\n",
    "    df.drop(['hits_experiment', 'hits_customVariables', 'hits_customMetrics', 'hits_publisher_infos', 'hits_customDimensions'], axis=1, inplace=True)\n",
    "\n",
    "    # 'hits_product', 'hits_promotion'\n",
    "    def parse_list(x):\n",
    "        if isinstance(x, list) and x:\n",
    "            return pd.Series(x[0])\n",
    "        else:\n",
    "            return pd.Series({})\n",
    "    \n",
    "    for col in ['hits_product', 'hits_promotion']:\n",
    "        parsed_df = hits_df[col].apply(parse_list)\n",
    "        parsed_df.columns = [f'{col}_{x}' for x in parsed_df.columns]\n",
    "        df = pd.concat([df, parsed_df], axis=1)\n",
    "        df.drop(col, axis=1, inplace=True)\n",
    "\n",
    "    df.to_csv(out_csv, index=False)\n",
    "\n",
    "    return df.shape"
   ]
  },
  {
   "cell_type": "code",
   "execution_count": null,
   "metadata": {},
   "outputs": [],
   "source": [
    "flatten('data/train_v2.csv', 'data/f_train_v2.csv')"
   ]
  }
 ],
 "metadata": {
  "kernelspec": {
   "display_name": "Python 3",
   "language": "python",
   "name": "python3"
  },
  "language_info": {
   "codemirror_mode": {
    "name": "ipython",
    "version": 3
   },
   "file_extension": ".py",
   "mimetype": "text/x-python",
   "name": "python",
   "nbconvert_exporter": "python",
   "pygments_lexer": "ipython3",
   "version": "3.7.0"
  }
 },
 "nbformat": 4,
 "nbformat_minor": 2
}
