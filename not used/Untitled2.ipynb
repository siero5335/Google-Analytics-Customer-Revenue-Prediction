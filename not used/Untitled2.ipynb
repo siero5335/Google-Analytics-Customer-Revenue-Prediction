{
 "cells": [
  {
   "cell_type": "code",
   "execution_count": 1,
   "metadata": {},
   "outputs": [],
   "source": [
    "import pandas as pd \n",
    "import numpy as np \n",
    "import json \n",
    "from ast import literal_eval"
   ]
  },
  {
   "cell_type": "code",
   "execution_count": 2,
   "metadata": {},
   "outputs": [],
   "source": [
    "df = pd.read_csv('data/train_v2.csv', low_memory=False)"
   ]
  },
  {
   "cell_type": "code",
   "execution_count": 3,
   "metadata": {},
   "outputs": [],
   "source": [
    "json_cols = ['device', 'geoNetwork', 'totals', 'trafficSource']\n",
    "\n",
    "def parse_json_col(raw_str):\n",
    "    return pd.Series(json.loads(raw_str))\n",
    "\n",
    "for col in json_cols:\n",
    "    parsed_df = df[col].apply(parse_json_col)\n",
    "    parsed_df.columns = [f'{col}_{x}' for x in parsed_df.columns]\n",
    "    df = pd.concat([df, parsed_df], axis=1)\n",
    "    df.drop(col, axis=1, inplace=True)"
   ]
  },
  {
   "cell_type": "code",
   "execution_count": 4,
   "metadata": {},
   "outputs": [],
   "source": [
    "trafficSource_adwordsClickInfo_df = df.trafficSource_adwordsClickInfo.apply(pd.Series)\n",
    "trafficSource_adwordsClickInfo_df.columns = [f'trafficSource_adwordsClickInfo_{x}' for x in trafficSource_adwordsClickInfo_df.columns]\n",
    "df = pd.concat([df, trafficSource_adwordsClickInfo_df], axis=1)\n",
    "df.drop('trafficSource_adwordsClickInfo', axis=1, inplace=True)"
   ]
  },
  {
   "cell_type": "code",
   "execution_count": 5,
   "metadata": {},
   "outputs": [],
   "source": [
    "# for customDimensions and hits columns\n",
    "def parse_special_col(raw_str):\n",
    "    lst = literal_eval(raw_str)\n",
    "    if isinstance(lst, list) and lst:\n",
    "        return pd.Series(lst[0])\n",
    "    else:\n",
    "        return pd.Series({})"
   ]
  },
  {
   "cell_type": "code",
   "execution_count": 6,
   "metadata": {},
   "outputs": [],
   "source": [
    "customDimensions_df = df.customDimensions.apply(parse_special_col)\n",
    "customDimensions_df.columns = [f'customDimensions_{x}' for x in customDimensions_df.columns]\n",
    "df = pd.concat([df, customDimensions_df], axis=1)\n",
    "df.drop('customDimensions', axis=1, inplace=True)"
   ]
  },
  {
   "cell_type": "code",
   "execution_count": 7,
   "metadata": {},
   "outputs": [],
   "source": [
    "hits_df = df.hits.apply(parse_special_col)\n",
    "hits_df.columns = [f'hits_{x}' for x in hits_df.columns]\n",
    "df = pd.concat([df, hits_df], axis=1)\n",
    "df.drop('hits', axis=1, inplace=True)"
   ]
  },
  {
   "cell_type": "code",
   "execution_count": 8,
   "metadata": {},
   "outputs": [],
   "source": [
    "df.drop(['hits_experiment', 'hits_customVariables', 'hits_customMetrics', 'hits_publisher_infos', 'hits_customDimensions'], axis=1, inplace=True)"
   ]
  },
  {
   "cell_type": "code",
   "execution_count": 9,
   "metadata": {},
   "outputs": [
    {
     "name": "stderr",
     "output_type": "stream",
     "text": [
      "/anaconda3/lib/python3.7/site-packages/pandas/core/indexes/api.py:69: RuntimeWarning: '<' not supported between instances of 'int' and 'str', sort order is undefined for incomparable objects\n",
      "  index = _union_indexes(indexes, sort=sort)\n",
      "/anaconda3/lib/python3.7/site-packages/pandas/core/indexes/api.py:107: RuntimeWarning: '<' not supported between instances of 'int' and 'str', sort order is undefined for incomparable objects\n",
      "  result = result.union(other)\n",
      "/anaconda3/lib/python3.7/site-packages/pandas/core/indexes/api.py:107: RuntimeWarning: '<' not supported between instances of 'str' and 'int', sort order is undefined for incomparable objects\n",
      "  result = result.union(other)\n"
     ]
    },
    {
     "ename": "KeyboardInterrupt",
     "evalue": "",
     "output_type": "error",
     "traceback": [
      "\u001b[0;31m---------------------------------------------------------------------------\u001b[0m",
      "\u001b[0;31mKeyboardInterrupt\u001b[0m                         Traceback (most recent call last)",
      "\u001b[0;32m/anaconda3/lib/python3.7/site-packages/pandas/core/series.py\u001b[0m in \u001b[0;36mapply\u001b[0;34m(self, func, convert_dtype, args, **kwds)\u001b[0m\n\u001b[1;32m   3193\u001b[0m                 \u001b[0mvalues\u001b[0m \u001b[0;34m=\u001b[0m \u001b[0mself\u001b[0m\u001b[0;34m.\u001b[0m\u001b[0mastype\u001b[0m\u001b[0;34m(\u001b[0m\u001b[0mobject\u001b[0m\u001b[0;34m)\u001b[0m\u001b[0;34m.\u001b[0m\u001b[0mvalues\u001b[0m\u001b[0;34m\u001b[0m\u001b[0m\n\u001b[0;32m-> 3194\u001b[0;31m                 \u001b[0mmapped\u001b[0m \u001b[0;34m=\u001b[0m \u001b[0mlib\u001b[0m\u001b[0;34m.\u001b[0m\u001b[0mmap_infer\u001b[0m\u001b[0;34m(\u001b[0m\u001b[0mvalues\u001b[0m\u001b[0;34m,\u001b[0m \u001b[0mf\u001b[0m\u001b[0;34m,\u001b[0m \u001b[0mconvert\u001b[0m\u001b[0;34m=\u001b[0m\u001b[0mconvert_dtype\u001b[0m\u001b[0;34m)\u001b[0m\u001b[0;34m\u001b[0m\u001b[0m\n\u001b[0m\u001b[1;32m   3195\u001b[0m \u001b[0;34m\u001b[0m\u001b[0m\n",
      "\u001b[0;32mpandas/_libs/src/inference.pyx\u001b[0m in \u001b[0;36mpandas._libs.lib.map_infer\u001b[0;34m()\u001b[0m\n",
      "\u001b[0;32m/anaconda3/lib/python3.7/site-packages/pandas/core/series.py\u001b[0m in \u001b[0;36m__init__\u001b[0;34m(self, data, index, dtype, name, copy, fastpath)\u001b[0m\n\u001b[1;32m    215\u001b[0m             \u001b[0;32melif\u001b[0m \u001b[0misinstance\u001b[0m\u001b[0;34m(\u001b[0m\u001b[0mdata\u001b[0m\u001b[0;34m,\u001b[0m \u001b[0mdict\u001b[0m\u001b[0;34m)\u001b[0m\u001b[0;34m:\u001b[0m\u001b[0;34m\u001b[0m\u001b[0m\n\u001b[0;32m--> 216\u001b[0;31m                 \u001b[0mdata\u001b[0m\u001b[0;34m,\u001b[0m \u001b[0mindex\u001b[0m \u001b[0;34m=\u001b[0m \u001b[0mself\u001b[0m\u001b[0;34m.\u001b[0m\u001b[0m_init_dict\u001b[0m\u001b[0;34m(\u001b[0m\u001b[0mdata\u001b[0m\u001b[0;34m,\u001b[0m \u001b[0mindex\u001b[0m\u001b[0;34m,\u001b[0m \u001b[0mdtype\u001b[0m\u001b[0;34m)\u001b[0m\u001b[0;34m\u001b[0m\u001b[0m\n\u001b[0m\u001b[1;32m    217\u001b[0m                 \u001b[0mdtype\u001b[0m \u001b[0;34m=\u001b[0m \u001b[0;32mNone\u001b[0m\u001b[0;34m\u001b[0m\u001b[0m\n",
      "\u001b[0;32m/anaconda3/lib/python3.7/site-packages/pandas/core/series.py\u001b[0m in \u001b[0;36m_init_dict\u001b[0;34m(self, data, index, dtype)\u001b[0m\n\u001b[1;32m    316\u001b[0m         \u001b[0;31m# Input is now list-like, so rely on \"standard\" construction:\u001b[0m\u001b[0;34m\u001b[0m\u001b[0;34m\u001b[0m\u001b[0m\n\u001b[0;32m--> 317\u001b[0;31m         \u001b[0ms\u001b[0m \u001b[0;34m=\u001b[0m \u001b[0mSeries\u001b[0m\u001b[0;34m(\u001b[0m\u001b[0mvalues\u001b[0m\u001b[0;34m,\u001b[0m \u001b[0mindex\u001b[0m\u001b[0;34m=\u001b[0m\u001b[0mkeys\u001b[0m\u001b[0;34m,\u001b[0m \u001b[0mdtype\u001b[0m\u001b[0;34m=\u001b[0m\u001b[0mdtype\u001b[0m\u001b[0;34m)\u001b[0m\u001b[0;34m\u001b[0m\u001b[0m\n\u001b[0m\u001b[1;32m    318\u001b[0m \u001b[0;34m\u001b[0m\u001b[0m\n",
      "\u001b[0;32m/anaconda3/lib/python3.7/site-packages/pandas/core/series.py\u001b[0m in \u001b[0;36m__init__\u001b[0;34m(self, data, index, dtype, name, copy, fastpath)\u001b[0m\n\u001b[1;32m    276\u001b[0m \u001b[0;34m\u001b[0m\u001b[0m\n\u001b[0;32m--> 277\u001b[0;31m                 \u001b[0mdata\u001b[0m \u001b[0;34m=\u001b[0m \u001b[0mSingleBlockManager\u001b[0m\u001b[0;34m(\u001b[0m\u001b[0mdata\u001b[0m\u001b[0;34m,\u001b[0m \u001b[0mindex\u001b[0m\u001b[0;34m,\u001b[0m \u001b[0mfastpath\u001b[0m\u001b[0;34m=\u001b[0m\u001b[0;32mTrue\u001b[0m\u001b[0;34m)\u001b[0m\u001b[0;34m\u001b[0m\u001b[0m\n\u001b[0m\u001b[1;32m    278\u001b[0m \u001b[0;34m\u001b[0m\u001b[0m\n",
      "\u001b[0;32m/anaconda3/lib/python3.7/site-packages/pandas/core/internals.py\u001b[0m in \u001b[0;36m__init__\u001b[0;34m(self, block, axis, do_integrity_check, fastpath)\u001b[0m\n\u001b[1;32m   4676\u001b[0m         \u001b[0;32mif\u001b[0m \u001b[0;32mnot\u001b[0m \u001b[0misinstance\u001b[0m\u001b[0;34m(\u001b[0m\u001b[0mblock\u001b[0m\u001b[0;34m,\u001b[0m \u001b[0mBlock\u001b[0m\u001b[0;34m)\u001b[0m\u001b[0;34m:\u001b[0m\u001b[0;34m\u001b[0m\u001b[0m\n\u001b[0;32m-> 4677\u001b[0;31m             \u001b[0mblock\u001b[0m \u001b[0;34m=\u001b[0m \u001b[0mmake_block\u001b[0m\u001b[0;34m(\u001b[0m\u001b[0mblock\u001b[0m\u001b[0;34m,\u001b[0m \u001b[0mplacement\u001b[0m\u001b[0;34m=\u001b[0m\u001b[0mslice\u001b[0m\u001b[0;34m(\u001b[0m\u001b[0;36m0\u001b[0m\u001b[0;34m,\u001b[0m \u001b[0mlen\u001b[0m\u001b[0;34m(\u001b[0m\u001b[0maxis\u001b[0m\u001b[0;34m)\u001b[0m\u001b[0;34m)\u001b[0m\u001b[0;34m,\u001b[0m \u001b[0mndim\u001b[0m\u001b[0;34m=\u001b[0m\u001b[0;36m1\u001b[0m\u001b[0;34m)\u001b[0m\u001b[0;34m\u001b[0m\u001b[0m\n\u001b[0m\u001b[1;32m   4678\u001b[0m \u001b[0;34m\u001b[0m\u001b[0m\n",
      "\u001b[0;32m/anaconda3/lib/python3.7/site-packages/pandas/core/internals.py\u001b[0m in \u001b[0;36mmake_block\u001b[0;34m(values, placement, klass, ndim, dtype, fastpath)\u001b[0m\n\u001b[1;32m   3198\u001b[0m         \u001b[0mdtype\u001b[0m \u001b[0;34m=\u001b[0m \u001b[0mdtype\u001b[0m \u001b[0;32mor\u001b[0m \u001b[0mvalues\u001b[0m\u001b[0;34m.\u001b[0m\u001b[0mdtype\u001b[0m\u001b[0;34m\u001b[0m\u001b[0m\n\u001b[0;32m-> 3199\u001b[0;31m         \u001b[0mklass\u001b[0m \u001b[0;34m=\u001b[0m \u001b[0mget_block_type\u001b[0m\u001b[0;34m(\u001b[0m\u001b[0mvalues\u001b[0m\u001b[0;34m,\u001b[0m \u001b[0mdtype\u001b[0m\u001b[0;34m)\u001b[0m\u001b[0;34m\u001b[0m\u001b[0m\n\u001b[0m\u001b[1;32m   3200\u001b[0m \u001b[0;34m\u001b[0m\u001b[0m\n",
      "\u001b[0;32m/anaconda3/lib/python3.7/site-packages/pandas/core/internals.py\u001b[0m in \u001b[0;36mget_block_type\u001b[0;34m(values, dtype)\u001b[0m\n\u001b[1;32m   3165\u001b[0m         \u001b[0mcls\u001b[0m \u001b[0;34m=\u001b[0m \u001b[0mSparseBlock\u001b[0m\u001b[0;34m\u001b[0m\u001b[0m\n\u001b[0;32m-> 3166\u001b[0;31m     \u001b[0;32melif\u001b[0m \u001b[0missubclass\u001b[0m\u001b[0;34m(\u001b[0m\u001b[0mvtype\u001b[0m\u001b[0;34m,\u001b[0m \u001b[0mnp\u001b[0m\u001b[0;34m.\u001b[0m\u001b[0mfloating\u001b[0m\u001b[0;34m)\u001b[0m\u001b[0;34m:\u001b[0m\u001b[0;34m\u001b[0m\u001b[0m\n\u001b[0m\u001b[1;32m   3167\u001b[0m         \u001b[0mcls\u001b[0m \u001b[0;34m=\u001b[0m \u001b[0mFloatBlock\u001b[0m\u001b[0;34m\u001b[0m\u001b[0m\n",
      "\u001b[0;31mKeyboardInterrupt\u001b[0m: ",
      "\nDuring handling of the above exception, another exception occurred:\n",
      "\u001b[0;31mKeyboardInterrupt\u001b[0m                         Traceback (most recent call last)",
      "\u001b[0;32m<ipython-input-9-89e7561d5782>\u001b[0m in \u001b[0;36m<module>\u001b[0;34m()\u001b[0m\n\u001b[1;32m      2\u001b[0m         'hits_exceptionInfo', 'hits_eCommerceAction', 'hits_social', 'hits_contentGroup', 'hits_promotionActionInfo']\n\u001b[1;32m      3\u001b[0m \u001b[0;32mfor\u001b[0m \u001b[0mcol\u001b[0m \u001b[0;32min\u001b[0m \u001b[0mdict_cols\u001b[0m\u001b[0;34m:\u001b[0m\u001b[0;34m\u001b[0m\u001b[0m\n\u001b[0;32m----> 4\u001b[0;31m     \u001b[0mparsed_df\u001b[0m \u001b[0;34m=\u001b[0m \u001b[0mhits_df\u001b[0m\u001b[0;34m[\u001b[0m\u001b[0mcol\u001b[0m\u001b[0;34m]\u001b[0m\u001b[0;34m.\u001b[0m\u001b[0mapply\u001b[0m\u001b[0;34m(\u001b[0m\u001b[0mpd\u001b[0m\u001b[0;34m.\u001b[0m\u001b[0mSeries\u001b[0m\u001b[0;34m)\u001b[0m\u001b[0;34m\u001b[0m\u001b[0m\n\u001b[0m\u001b[1;32m      5\u001b[0m     \u001b[0mparsed_df\u001b[0m\u001b[0;34m.\u001b[0m\u001b[0mcolumns\u001b[0m \u001b[0;34m=\u001b[0m \u001b[0;34m[\u001b[0m\u001b[0;34mf'{col}_{x}'\u001b[0m \u001b[0;32mfor\u001b[0m \u001b[0mx\u001b[0m \u001b[0;32min\u001b[0m \u001b[0mparsed_df\u001b[0m\u001b[0;34m.\u001b[0m\u001b[0mcolumns\u001b[0m\u001b[0;34m]\u001b[0m\u001b[0;34m\u001b[0m\u001b[0m\n\u001b[1;32m      6\u001b[0m     \u001b[0mdf\u001b[0m \u001b[0;34m=\u001b[0m \u001b[0mpd\u001b[0m\u001b[0;34m.\u001b[0m\u001b[0mconcat\u001b[0m\u001b[0;34m(\u001b[0m\u001b[0;34m[\u001b[0m\u001b[0mdf\u001b[0m\u001b[0;34m,\u001b[0m \u001b[0mparsed_df\u001b[0m\u001b[0;34m]\u001b[0m\u001b[0;34m,\u001b[0m \u001b[0maxis\u001b[0m\u001b[0;34m=\u001b[0m\u001b[0;36m1\u001b[0m\u001b[0;34m)\u001b[0m\u001b[0;34m\u001b[0m\u001b[0m\n",
      "\u001b[0;32m/anaconda3/lib/python3.7/site-packages/pandas/core/series.py\u001b[0m in \u001b[0;36mapply\u001b[0;34m(self, func, convert_dtype, args, **kwds)\u001b[0m\n\u001b[1;32m   3192\u001b[0m             \u001b[0;32melse\u001b[0m\u001b[0;34m:\u001b[0m\u001b[0;34m\u001b[0m\u001b[0m\n\u001b[1;32m   3193\u001b[0m                 \u001b[0mvalues\u001b[0m \u001b[0;34m=\u001b[0m \u001b[0mself\u001b[0m\u001b[0;34m.\u001b[0m\u001b[0mastype\u001b[0m\u001b[0;34m(\u001b[0m\u001b[0mobject\u001b[0m\u001b[0;34m)\u001b[0m\u001b[0;34m.\u001b[0m\u001b[0mvalues\u001b[0m\u001b[0;34m\u001b[0m\u001b[0m\n\u001b[0;32m-> 3194\u001b[0;31m                 \u001b[0mmapped\u001b[0m \u001b[0;34m=\u001b[0m \u001b[0mlib\u001b[0m\u001b[0;34m.\u001b[0m\u001b[0mmap_infer\u001b[0m\u001b[0;34m(\u001b[0m\u001b[0mvalues\u001b[0m\u001b[0;34m,\u001b[0m \u001b[0mf\u001b[0m\u001b[0;34m,\u001b[0m \u001b[0mconvert\u001b[0m\u001b[0;34m=\u001b[0m\u001b[0mconvert_dtype\u001b[0m\u001b[0;34m)\u001b[0m\u001b[0;34m\u001b[0m\u001b[0m\n\u001b[0m\u001b[1;32m   3195\u001b[0m \u001b[0;34m\u001b[0m\u001b[0m\n\u001b[1;32m   3196\u001b[0m         \u001b[0;32mif\u001b[0m \u001b[0mlen\u001b[0m\u001b[0;34m(\u001b[0m\u001b[0mmapped\u001b[0m\u001b[0;34m)\u001b[0m \u001b[0;32mand\u001b[0m \u001b[0misinstance\u001b[0m\u001b[0;34m(\u001b[0m\u001b[0mmapped\u001b[0m\u001b[0;34m[\u001b[0m\u001b[0;36m0\u001b[0m\u001b[0;34m]\u001b[0m\u001b[0;34m,\u001b[0m \u001b[0mSeries\u001b[0m\u001b[0;34m)\u001b[0m\u001b[0;34m:\u001b[0m\u001b[0;34m\u001b[0m\u001b[0m\n",
      "\u001b[0;31mKeyboardInterrupt\u001b[0m: "
     ]
    }
   ],
   "source": [
    "dict_cols = ['hits_page', 'hits_transaction', 'hits_item', 'hits_appInfo', \n",
    "        'hits_exceptionInfo', 'hits_eCommerceAction', 'hits_social', 'hits_contentGroup', 'hits_promotionActionInfo']\n",
    "for col in dict_cols:\n",
    "    parsed_df = hits_df[col].apply(pd.Series)\n",
    "    parsed_df.columns = [f'{col}_{x}' for x in parsed_df.columns]\n",
    "    df = pd.concat([df, parsed_df], axis=1)\n",
    "    df.drop(col, axis=1, inplace=True)"
   ]
  },
  {
   "cell_type": "code",
   "execution_count": null,
   "metadata": {},
   "outputs": [],
   "source": [
    "def parse_list(x):\n",
    "    if isinstance(x, list) and x:\n",
    "        return pd.Series(x[0])\n",
    "    else:\n",
    "        return pd.Series({})\n",
    "    \n",
    "for col in ['hits_product', 'hits_promotion']:\n",
    "    parsed_df = hits_df[col].apply(parse_list)\n",
    "    parsed_df.columns = [f'{col}_{x}' for x in parsed_df.columns]\n",
    "    df = pd.concat([df, parsed_df], axis=1)\n",
    "    df.drop(col, axis=1, inplace=True)"
   ]
  },
  {
   "cell_type": "code",
   "execution_count": null,
   "metadata": {},
   "outputs": [],
   "source": [
    "def flatten(in_csv, out_csv, nrows=None):\n",
    "    df = pd.read_csv(in_csv, dtype=np.object, nrows=nrows)\n",
    "    # json columns\n",
    "    json_cols = ['device', 'geoNetwork', 'totals', 'trafficSource']\n",
    "\n",
    "    def parse_json_col(raw_str):\n",
    "        return pd.Series(json.loads(raw_str))\n",
    "    \n",
    "    for col in json_cols:\n",
    "        parsed_df = df[col].apply(parse_json_col)\n",
    "        parsed_df.columns = [f'{col}_{x}' for x in parsed_df.columns]\n",
    "        df = pd.concat([df, parsed_df], axis=1)\n",
    "        df.drop(col, axis=1, inplace=True)\n",
    "    \n",
    "    # trafficSource_adwordsClickInfo\n",
    "    trafficSource_adwordsClickInfo_df = df.trafficSource_adwordsClickInfo.apply(pd.Series)\n",
    "    trafficSource_adwordsClickInfo_df.columns = [f'trafficSource_adwordsClickInfo_{x}' for x in trafficSource_adwordsClickInfo_df.columns]\n",
    "    df = pd.concat([df, trafficSource_adwordsClickInfo_df], axis=1)\n",
    "    df.drop('trafficSource_adwordsClickInfo', axis=1, inplace=True)\n",
    "\n",
    "    # customDimensions\n",
    "    def parse_customDimensions(raw_str):\n",
    "        lst = literal_eval(raw_str)\n",
    "        if isinstance(lst, list) and lst:\n",
    "            return pd.Series(lst[0])\n",
    "        else:\n",
    "            return pd.Series({})\n",
    "    \n",
    "    customDimensions_df = df.customDimensions.apply(parse_customDimensions)\n",
    "    customDimensions_df.columns = [f'customDimensions_{x}' for x in customDimensions_df.columns]\n",
    "    df = pd.concat([df, customDimensions_df], axis=1)\n",
    "    df.drop('customDimensions', axis=1, inplace=True)\n",
    "\n",
    "    # hits\n",
    "    def parse_hits(raw_str):\n",
    "        lst = literal_eval(raw_str)\n",
    "        if isinstance(lst, list) and lst:\n",
    "            return pd.Series(lst[0])\n",
    "        else:\n",
    "            return pd.Series({})\n",
    "    \n",
    "    hits_df = df.hits.apply(parse_hits)\n",
    "    hits_df.columns = [f'hits_{x}' for x in hits_df.columns]\n",
    "    df = pd.concat([df, hits_df], axis=1)\n",
    "    df.drop('hits', axis=1, inplace=True)\n",
    "\n",
    "    # 'hits_page', 'hits_transaction', 'hits_item', 'hits_appInfo',\n",
    "    # 'hits_exceptionInfo', 'hits_eCommerceAction', 'hits_social', 'hits_contentGroup', 'hits_promotionActionInfo'\n",
    "    dict_cols = ['hits_page', 'hits_transaction', 'hits_item', 'hits_appInfo', \n",
    "        'hits_exceptionInfo', 'hits_eCommerceAction', 'hits_social', 'hits_contentGroup', 'hits_promotionActionInfo']\n",
    "    for col in dict_cols:\n",
    "        parsed_df = hits_df[col].apply(pd.Series)\n",
    "        parsed_df.columns = [f'{col}_{x}' for x in parsed_df.columns]\n",
    "        df = pd.concat([df, parsed_df], axis=1)\n",
    "        df.drop(col, axis=1, inplace=True)\n",
    "    \n",
    "    # 'hits_experiment', 'hits_customVariables', 'hits_customMetrics', 'hits_publisher_infos', 'hits_customDimensions' are empty\n",
    "    df.drop(['hits_experiment', 'hits_customVariables', 'hits_customMetrics', 'hits_publisher_infos', 'hits_customDimensions'], axis=1, inplace=True)\n",
    "\n",
    "    # 'hits_product', 'hits_promotion'\n",
    "    def parse_list(x):\n",
    "        if isinstance(x, list) and x:\n",
    "            return pd.Series(x[0])\n",
    "        else:\n",
    "            return pd.Series({})\n",
    "    \n",
    "    for col in ['hits_product', 'hits_promotion']:\n",
    "        parsed_df = hits_df[col].apply(parse_list)\n",
    "        parsed_df.columns = [f'{col}_{x}' for x in parsed_df.columns]\n",
    "        df = pd.concat([df, parsed_df], axis=1)\n",
    "        df.drop(col, axis=1, inplace=True)\n",
    "\n",
    "    df.to_csv(out_csv, index=False)\n",
    "\n",
    "    return df.shape"
   ]
  },
  {
   "cell_type": "code",
   "execution_count": null,
   "metadata": {},
   "outputs": [],
   "source": [
    "df = pd.read_csv('data/test_v2.csv', low_memory=False)"
   ]
  },
  {
   "cell_type": "code",
   "execution_count": null,
   "metadata": {},
   "outputs": [],
   "source": [
    "json_cols = ['device', 'geoNetwork', 'totals', 'trafficSource']\n",
    "\n",
    "def parse_json_col(raw_str):\n",
    "    return pd.Series(json.loads(raw_str))\n",
    "\n",
    "for col in json_cols:\n",
    "    parsed_df = df[col].apply(parse_json_col)\n",
    "    parsed_df.columns = [f'{col}_{x}' for x in parsed_df.columns]\n",
    "    df = pd.concat([df, parsed_df], axis=1)\n",
    "    df.drop(col, axis=1, inplace=True)"
   ]
  },
  {
   "cell_type": "code",
   "execution_count": null,
   "metadata": {},
   "outputs": [],
   "source": [
    "trafficSource_adwordsClickInfo_df = df.trafficSource_adwordsClickInfo.apply(pd.Series)\n",
    "trafficSource_adwordsClickInfo_df.columns = [f'trafficSource_adwordsClickInfo_{x}' for x in trafficSource_adwordsClickInfo_df.columns]\n",
    "df = pd.concat([df, trafficSource_adwordsClickInfo_df], axis=1)\n",
    "df.drop('trafficSource_adwordsClickInfo', axis=1, inplace=True)"
   ]
  },
  {
   "cell_type": "code",
   "execution_count": null,
   "metadata": {},
   "outputs": [],
   "source": [
    "# for customDimensions and hits columns\n",
    "def parse_special_col(raw_str):\n",
    "    lst = literal_eval(raw_str)\n",
    "    if isinstance(lst, list) and lst:\n",
    "        return pd.Series(lst[0])\n",
    "    else:\n",
    "        return pd.Series({})"
   ]
  },
  {
   "cell_type": "code",
   "execution_count": null,
   "metadata": {},
   "outputs": [],
   "source": [
    "customDimensions_df = df.customDimensions.apply(parse_special_col)\n",
    "customDimensions_df.columns = [f'customDimensions_{x}' for x in customDimensions_df.columns]\n",
    "df = pd.concat([df, customDimensions_df], axis=1)\n",
    "df.drop('customDimensions', axis=1, inplace=True)"
   ]
  },
  {
   "cell_type": "code",
   "execution_count": null,
   "metadata": {},
   "outputs": [],
   "source": [
    "hits_df = df.hits.apply(parse_special_col)\n",
    "hits_df.columns = [f'hits_{x}' for x in hits_df.columns]\n",
    "df = pd.concat([df, hits_df], axis=1)\n",
    "df.drop('hits', axis=1, inplace=True)"
   ]
  },
  {
   "cell_type": "code",
   "execution_count": null,
   "metadata": {},
   "outputs": [],
   "source": [
    "df.drop(['hits_experiment', 'hits_customVariables', 'hits_customMetrics', 'hits_publisher_infos', 'hits_customDimensions'], axis=1, inplace=True)"
   ]
  },
  {
   "cell_type": "code",
   "execution_count": null,
   "metadata": {},
   "outputs": [],
   "source": [
    "dict_cols = ['hits_page', 'hits_transaction', 'hits_item', 'hits_appInfo', \n",
    "        'hits_exceptionInfo', 'hits_eCommerceAction', 'hits_social', 'hits_contentGroup', 'hits_promotionActionInfo']\n",
    "for col in dict_cols:\n",
    "    parsed_df = hits_df[col].apply(pd.Series)\n",
    "    parsed_df.columns = [f'{col}_{x}' for x in parsed_df.columns]\n",
    "    df = pd.concat([df, parsed_df], axis=1)\n",
    "    df.drop(col, axis=1, inplace=True)"
   ]
  },
  {
   "cell_type": "code",
   "execution_count": null,
   "metadata": {},
   "outputs": [],
   "source": [
    "def parse_list(x):\n",
    "    if isinstance(x, list) and x:\n",
    "        return pd.Series(x[0])\n",
    "    else:\n",
    "        return pd.Series({})\n",
    "    \n",
    "for col in ['hits_product', 'hits_promotion']:\n",
    "    parsed_df = hits_df[col].apply(parse_list)\n",
    "    parsed_df.columns = [f'{col}_{x}' for x in parsed_df.columns]\n",
    "    df = pd.concat([df, parsed_df], axis=1)\n",
    "    df.drop(col, axis=1, inplace=True)"
   ]
  },
  {
   "cell_type": "code",
   "execution_count": null,
   "metadata": {},
   "outputs": [],
   "source": [
    "def flatten(in_csv, out_csv2, nrows=None):\n",
    "    df = pd.read_csv(in_csv, dtype=np.object, nrows=nrows)\n",
    "    # json columns\n",
    "    json_cols = ['device', 'geoNetwork', 'totals', 'trafficSource']\n",
    "\n",
    "    def parse_json_col(raw_str):\n",
    "        return pd.Series(json.loads(raw_str))\n",
    "    \n",
    "    for col in json_cols:\n",
    "        parsed_df = df[col].apply(parse_json_col)\n",
    "        parsed_df.columns = [f'{col}_{x}' for x in parsed_df.columns]\n",
    "        df = pd.concat([df, parsed_df], axis=1)\n",
    "        df.drop(col, axis=1, inplace=True)\n",
    "    \n",
    "    # trafficSource_adwordsClickInfo\n",
    "    trafficSource_adwordsClickInfo_df = df.trafficSource_adwordsClickInfo.apply(pd.Series)\n",
    "    trafficSource_adwordsClickInfo_df.columns = [f'trafficSource_adwordsClickInfo_{x}' for x in trafficSource_adwordsClickInfo_df.columns]\n",
    "    df = pd.concat([df, trafficSource_adwordsClickInfo_df], axis=1)\n",
    "    df.drop('trafficSource_adwordsClickInfo', axis=1, inplace=True)\n",
    "\n",
    "    # customDimensions\n",
    "    def parse_customDimensions(raw_str):\n",
    "        lst = literal_eval(raw_str)\n",
    "        if isinstance(lst, list) and lst:\n",
    "            return pd.Series(lst[0])\n",
    "        else:\n",
    "            return pd.Series({})\n",
    "    \n",
    "    customDimensions_df = df.customDimensions.apply(parse_customDimensions)\n",
    "    customDimensions_df.columns = [f'customDimensions_{x}' for x in customDimensions_df.columns]\n",
    "    df = pd.concat([df, customDimensions_df], axis=1)\n",
    "    df.drop('customDimensions', axis=1, inplace=True)\n",
    "\n",
    "    # hits\n",
    "    def parse_hits(raw_str):\n",
    "        lst = literal_eval(raw_str)\n",
    "        if isinstance(lst, list) and lst:\n",
    "            return pd.Series(lst[0])\n",
    "        else:\n",
    "            return pd.Series({})\n",
    "    \n",
    "    hits_df = df.hits.apply(parse_hits)\n",
    "    hits_df.columns = [f'hits_{x}' for x in hits_df.columns]\n",
    "    df = pd.concat([df, hits_df], axis=1)\n",
    "    df.drop('hits', axis=1, inplace=True)\n",
    "\n",
    "    # 'hits_page', 'hits_transaction', 'hits_item', 'hits_appInfo',\n",
    "    # 'hits_exceptionInfo', 'hits_eCommerceAction', 'hits_social', 'hits_contentGroup', 'hits_promotionActionInfo'\n",
    "    dict_cols = ['hits_page', 'hits_transaction', 'hits_item', 'hits_appInfo', \n",
    "        'hits_exceptionInfo', 'hits_eCommerceAction', 'hits_social', 'hits_contentGroup', 'hits_promotionActionInfo']\n",
    "    for col in dict_cols:\n",
    "        parsed_df = hits_df[col].apply(pd.Series)\n",
    "        parsed_df.columns = [f'{col}_{x}' for x in parsed_df.columns]\n",
    "        df = pd.concat([df, parsed_df], axis=1)\n",
    "        df.drop(col, axis=1, inplace=True)\n",
    "    \n",
    "    # 'hits_experiment', 'hits_customVariables', 'hits_customMetrics', 'hits_publisher_infos', 'hits_customDimensions' are empty\n",
    "    df.drop(['hits_experiment', 'hits_customVariables', 'hits_customMetrics', 'hits_publisher_infos', 'hits_customDimensions'], axis=1, inplace=True)\n",
    "\n",
    "    # 'hits_product', 'hits_promotion'\n",
    "    def parse_list(x):\n",
    "        if isinstance(x, list) and x:\n",
    "            return pd.Series(x[0])\n",
    "        else:\n",
    "            return pd.Series({})\n",
    "    \n",
    "    for col in ['hits_product', 'hits_promotion']:\n",
    "        parsed_df = hits_df[col].apply(parse_list)\n",
    "        parsed_df.columns = [f'{col}_{x}' for x in parsed_df.columns]\n",
    "        df = pd.concat([df, parsed_df], axis=1)\n",
    "        df.drop(col, axis=1, inplace=True)\n",
    "\n",
    "    df.to_csv(out_csv2, index=False)\n",
    "\n",
    "    return df.shape"
   ]
  },
  {
   "cell_type": "code",
   "execution_count": null,
   "metadata": {},
   "outputs": [],
   "source": []
  },
  {
   "cell_type": "code",
   "execution_count": null,
   "metadata": {},
   "outputs": [],
   "source": []
  }
 ],
 "metadata": {
  "kernelspec": {
   "display_name": "Python 3",
   "language": "python",
   "name": "python3"
  },
  "language_info": {
   "codemirror_mode": {
    "name": "ipython",
    "version": 3
   },
   "file_extension": ".py",
   "mimetype": "text/x-python",
   "name": "python",
   "nbconvert_exporter": "python",
   "pygments_lexer": "ipython3",
   "version": "3.7.0"
  }
 },
 "nbformat": 4,
 "nbformat_minor": 2
}
