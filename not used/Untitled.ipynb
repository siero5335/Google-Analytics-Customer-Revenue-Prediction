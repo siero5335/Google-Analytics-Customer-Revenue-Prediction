{
 "cells": [
  {
   "cell_type": "code",
   "execution_count": 1,
   "metadata": {},
   "outputs": [],
   "source": [
    "import pandas as pd \n",
    "from pandas.io.json import json_normalize\n",
    "from ast import literal_eval"
   ]
  },
  {
   "cell_type": "code",
   "execution_count": 2,
   "metadata": {},
   "outputs": [],
   "source": [
    "MAXROWS = 1e5 # per CSV"
   ]
  },
  {
   "cell_type": "code",
   "execution_count": null,
   "metadata": {},
   "outputs": [],
   "source": [
    "i = rows = 0 \n",
    "for file in ['data/train_v2.csv', 'data/test_v2.csv']:\n",
    "    key_columns = ['fullVisitorId', 'visitId']\n",
    "    array_column = 'hits'\n",
    "    USE_COLUMNS = key_columns+[array_column]\n",
    "\n",
    "    reader = pd.read_csv(file, dtype={'fullVisitorId': 'str'}, usecols=USE_COLUMNS, chunksize = MAXROWS, skiprows=0)\n",
    "    for df in reader:\n",
    "        df[array_column][df[array_column] == \"[]\"] = \"[{}]\"\n",
    "        df[array_column]=df[array_column].apply(literal_eval)\n",
    "        df[key_columns] = df[key_columns].astype(str)\n",
    "        df['key'] = df[key_columns].apply(lambda x: '_'.join(x), axis=1)\n",
    "        df = df.drop(key_columns, axis=1)\n",
    "        df = df.join(df[array_column].apply(pd.Series)).drop(array_column, 1).set_index([u'key']).stack().reset_index().drop('level_1', 1).rename(columns={0:array_column})\n",
    "        column_as_df = json_normalize(df[array_column])\n",
    "        column_as_df.columns = [f\"{array_column}_{subcolumn}\" for subcolumn in column_as_df.columns]\n",
    "        df = df.drop(array_column, axis=1).merge(column_as_df, right_index=True, left_index=True)\n",
    "        \n",
    "        df.to_csv(f\"hits-{i:03d}.csv\", index=False)\n",
    "        rows += len(df.index)\n",
    "        print(f\"hits-{i:05d}.csv written ({rows} cumulative rows)\")\n",
    "        i += 1\n"
   ]
  }
 ],
 "metadata": {
  "kernelspec": {
   "display_name": "Python 3",
   "language": "python",
   "name": "python3"
  },
  "language_info": {
   "codemirror_mode": {
    "name": "ipython",
    "version": 3
   },
   "file_extension": ".py",
   "mimetype": "text/x-python",
   "name": "python",
   "nbconvert_exporter": "python",
   "pygments_lexer": "ipython3",
   "version": "3.7.0"
  }
 },
 "nbformat": 4,
 "nbformat_minor": 2
}
