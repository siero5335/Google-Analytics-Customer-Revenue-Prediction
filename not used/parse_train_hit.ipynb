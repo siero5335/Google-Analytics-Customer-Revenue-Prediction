{
 "cells": [
  {
   "cell_type": "code",
   "execution_count": 1,
   "metadata": {},
   "outputs": [],
   "source": [
    "# Inspired by notebooks from Julián Peller and Usman Abbas\n",
    "# Extracts only the hits column to save memory\n",
    "# Writes one CSV per MAXROWS rows\n",
    "\n",
    "import pandas as pd \n",
    "from pandas.io.json import json_normalize\n",
    "from ast import literal_eval"
   ]
  },
  {
   "cell_type": "code",
   "execution_count": 2,
   "metadata": {},
   "outputs": [],
   "source": [
    "MAXROWS = 6e5 # per CSV"
   ]
  },
  {
   "cell_type": "code",
   "execution_count": 3,
   "metadata": {},
   "outputs": [
    {
     "name": "stdout",
     "output_type": "stream",
     "text": [
      "hits-00000.csv written (600000 cumulative rows)\n",
      "hits-00001.csv written (1200000 cumulative rows)\n",
      "hits-00002.csv written (1708337 cumulative rows)\n"
     ]
    }
   ],
   "source": [
    "i = rows = 0 \n",
    "for file in ['data/train_v2.csv']:\n",
    "    reader = pd.read_csv(file, usecols=[1, 6], chunksize = MAXROWS, skiprows=0)\n",
    "    for chunk in reader:\n",
    "        chunk.columns = ['fullVisitorId', 'hits']\n",
    "        chunk['hits'][chunk['hits'] == \"[]\"] = \"[{}]\"\n",
    "        chunk['hits'] = chunk['hits'].apply(literal_eval).str[0]\n",
    "        chunk = json_normalize(chunk['hits'])\n",
    "\n",
    "        # Extract the product and promo names from the complex nested structure into a simple flat list:\n",
    "        if 'product' in chunk.columns:\n",
    "            #print(chunk['product'][0])\n",
    "            chunk['v2ProductName'] = chunk['product'].apply(lambda x: [p['v2ProductName'] for p in x] if type(x) == list else [])\n",
    "            chunk['v2ProductCategory'] = chunk['product'].apply(lambda x: [p['v2ProductCategory'] for p in x] if type(x) == list else [])\n",
    "            del chunk['product']\n",
    "        if 'promotion' in chunk.columns:\n",
    "            #print(chunk['promotion'][0])\n",
    "            chunk['promoId']  = chunk['promotion'].apply(lambda x: [p['promoId'] for p in x] if type(x) == list else [])\n",
    "            chunk['promoName']  = chunk['promotion'].apply(lambda x: [p['promoName'] for p in x] if type(x) == list else [])\n",
    "            del chunk['promotion']\n",
    "\n",
    "        chunk.to_csv(f\"hits-{i:03d}.csv\", index=False)\n",
    "        rows += len(chunk.index)\n",
    "        print(f\"hits-{i:05d}.csv written ({rows} cumulative rows)\")\n",
    "        i += 1"
   ]
  },
  {
   "cell_type": "code",
   "execution_count": null,
   "metadata": {},
   "outputs": [],
   "source": []
  }
 ],
 "metadata": {
  "kernelspec": {
   "display_name": "Python 3",
   "language": "python",
   "name": "python3"
  },
  "language_info": {
   "codemirror_mode": {
    "name": "ipython",
    "version": 3
   },
   "file_extension": ".py",
   "mimetype": "text/x-python",
   "name": "python",
   "nbconvert_exporter": "python",
   "pygments_lexer": "ipython3",
   "version": "3.7.0"
  }
 },
 "nbformat": 4,
 "nbformat_minor": 2
}
